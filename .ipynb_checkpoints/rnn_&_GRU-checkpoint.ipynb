{
 "cells": [
  {
   "cell_type": "code",
   "execution_count": 1,
   "metadata": {
    "executionInfo": {
     "elapsed": 1821,
     "status": "ok",
     "timestamp": 1617079834115,
     "user": {
      "displayName": "cody therrien",
      "photoUrl": "",
      "userId": "06182759585838248180"
     },
     "user_tz": 420
    },
    "id": "nNRUMpHRCu3G"
   },
   "outputs": [],
   "source": [
    "from numpy.random import seed\n",
    "import tensorflow as tf\n",
    "seed(45)\n",
    "tf.random.set_seed(45)"
   ]
  },
  {
   "cell_type": "code",
   "execution_count": 2,
   "metadata": {
    "colab": {
     "base_uri": "https://localhost:8080/"
    },
    "executionInfo": {
     "elapsed": 2904,
     "status": "ok",
     "timestamp": 1617079836258,
     "user": {
      "displayName": "cody therrien",
      "photoUrl": "",
      "userId": "06182759585838248180"
     },
     "user_tz": 420
    },
    "id": "X_i0n34fDBGT",
    "outputId": "150f2baa-69da-4681-a203-f662007733e5"
   },
   "outputs": [
    {
     "name": "stdout",
     "output_type": "stream",
     "text": [
      "Requirement already satisfied: yfinance in /usr/local/lib/python3.7/dist-packages (0.1.59)\n",
      "Requirement already satisfied: multitasking>=0.0.7 in /usr/local/lib/python3.7/dist-packages (from yfinance) (0.0.9)\n",
      "Requirement already satisfied: pandas>=0.24 in /usr/local/lib/python3.7/dist-packages (from yfinance) (1.1.5)\n",
      "Requirement already satisfied: lxml>=4.5.1 in /usr/local/lib/python3.7/dist-packages (from yfinance) (4.6.3)\n",
      "Requirement already satisfied: requests>=2.20 in /usr/local/lib/python3.7/dist-packages (from yfinance) (2.23.0)\n",
      "Requirement already satisfied: numpy>=1.15 in /usr/local/lib/python3.7/dist-packages (from yfinance) (1.19.5)\n",
      "Requirement already satisfied: python-dateutil>=2.7.3 in /usr/local/lib/python3.7/dist-packages (from pandas>=0.24->yfinance) (2.8.1)\n",
      "Requirement already satisfied: pytz>=2017.2 in /usr/local/lib/python3.7/dist-packages (from pandas>=0.24->yfinance) (2018.9)\n",
      "Requirement already satisfied: urllib3!=1.25.0,!=1.25.1,<1.26,>=1.21.1 in /usr/local/lib/python3.7/dist-packages (from requests>=2.20->yfinance) (1.24.3)\n",
      "Requirement already satisfied: idna<3,>=2.5 in /usr/local/lib/python3.7/dist-packages (from requests>=2.20->yfinance) (2.10)\n",
      "Requirement already satisfied: certifi>=2017.4.17 in /usr/local/lib/python3.7/dist-packages (from requests>=2.20->yfinance) (2020.12.5)\n",
      "Requirement already satisfied: chardet<4,>=3.0.2 in /usr/local/lib/python3.7/dist-packages (from requests>=2.20->yfinance) (3.0.4)\n",
      "Requirement already satisfied: six>=1.5 in /usr/local/lib/python3.7/dist-packages (from python-dateutil>=2.7.3->pandas>=0.24->yfinance) (1.15.0)\n"
     ]
    }
   ],
   "source": [
    "!pip install yfinance"
   ]
  },
  {
   "cell_type": "code",
   "execution_count": 3,
   "metadata": {
    "executionInfo": {
     "elapsed": 1664,
     "status": "ok",
     "timestamp": 1617079836711,
     "user": {
      "displayName": "cody therrien",
      "photoUrl": "",
      "userId": "06182759585838248180"
     },
     "user_tz": 420
    },
    "id": "E7bf4v-cDCZK"
   },
   "outputs": [],
   "source": [
    "import warnings\n",
    "warnings.filterwarnings('ignore')\n",
    "\n",
    "import yfinance as yf\n",
    "import pandas as pd\n",
    "import numpy as np\n",
    "import altair as alt\n",
    "import project_functions2 as pf\n",
    "\n",
    "from sklearn.linear_model import LinearRegression\n",
    "from matplotlib import pyplot as plt\n",
    "from sklearn.metrics import mean_squared_error, r2_score\n",
    "from sklearn.neural_network import MLPRegressor\n",
    "from sklearn.preprocessing import MinMaxScaler\n",
    "from keras.models import Sequential\n",
    "from keras.layers import Dense\n",
    "from tensorflow.keras.layers import GRU, LSTM, SimpleRNN\n",
    "from tensorflow.keras.layers import RepeatVector, TimeDistributed\n",
    "from tensorflow.keras.layers import Dense, Bidirectional\n",
    "from tensorflow.keras.activations import elu, relu\n",
    "from keras.layers import Dropout\n",
    "from tensorflow.keras.layers import LeakyReLU\n",
    "from tensorflow.keras.callbacks import EarlyStopping"
   ]
  },
  {
   "cell_type": "code",
   "execution_count": 4,
   "metadata": {
    "colab": {
     "base_uri": "https://localhost:8080/"
    },
    "executionInfo": {
     "elapsed": 286,
     "status": "ok",
     "timestamp": 1617079838712,
     "user": {
      "displayName": "cody therrien",
      "photoUrl": "",
      "userId": "06182759585838248180"
     },
     "user_tz": 420
    },
    "id": "PQ_5I0EVDO3T",
    "outputId": "0abc1eb0-36d9-4fd3-c801-ddac11ff3b74"
   },
   "outputs": [
    {
     "name": "stdout",
     "output_type": "stream",
     "text": [
      "Drive already mounted at /content/drive; to attempt to forcibly remount, call drive.mount(\"/content/drive\", force_remount=True).\n"
     ]
    }
   ],
   "source": [
    "from google.colab import drive\n",
    "drive.mount('/content/drive')"
   ]
  },
  {
   "cell_type": "code",
   "execution_count": 5,
   "metadata": {
    "executionInfo": {
     "elapsed": 522,
     "status": "ok",
     "timestamp": 1617079839859,
     "user": {
      "displayName": "cody therrien",
      "photoUrl": "",
      "userId": "06182759585838248180"
     },
     "user_tz": 420
    },
    "id": "ec9svWMEDVxL"
   },
   "outputs": [],
   "source": [
    "stock_list = ['AMZN', 'AAPL', 'FB','GOOG', 'MSFT', 'TSLA']\n",
    "stock_objects = {}\n",
    "for stock in stock_list:\n",
    "    stock_objects[stock] = yf.Ticker(stock)"
   ]
  },
  {
   "cell_type": "code",
   "execution_count": 6,
   "metadata": {
    "executionInfo": {
     "elapsed": 303,
     "status": "ok",
     "timestamp": 1617079840902,
     "user": {
      "displayName": "cody therrien",
      "photoUrl": "",
      "userId": "06182759585838248180"
     },
     "user_tz": 420
    },
    "id": "apWRMzDcDXFM"
   },
   "outputs": [],
   "source": [
    "stock_investing = {}\n",
    "for key in stock_objects:\n",
    "    stock_investing[key] = pd.read_csv('/content/drive/MyDrive/SENG474_Project/data/sentiment/investing_'+key+'_sentiment.csv')\n",
    "    stock_investing[key].set_index('date', inplace=True)\n",
    "stock_stocks = {}\n",
    "for key in stock_objects:\n",
    "    stock_stocks[key] = pd.read_csv('/content/drive/MyDrive/SENG474_Project/data/sentiment/stocks_'+key+'_sentiment.csv')\n",
    "    stock_stocks[key].set_index('date', inplace=True)"
   ]
  },
  {
   "cell_type": "code",
   "execution_count": 7,
   "metadata": {
    "executionInfo": {
     "elapsed": 2438,
     "status": "ok",
     "timestamp": 1617079845861,
     "user": {
      "displayName": "cody therrien",
      "photoUrl": "",
      "userId": "06182759585838248180"
     },
     "user_tz": 420
    },
    "id": "f5H4x1mQDYpD"
   },
   "outputs": [],
   "source": [
    "stock_dfs = {}\n",
    "drop_list = ['Open', 'High', 'Low', 'Volume', 'Dividends', 'Stock Splits', 'Mt',\n",
    "       '5 Day Open Mean', '5 Day High Mean', '5 Day Low Mean',\n",
    "       '5 Day Close Mean', '5 Day Volume Mean', '5 Day Open Var',\n",
    "       '5 Day High Var', '5 Day Low Var', '5 Day Close Var',\n",
    "       '5 Day Volume Var', '5 Day High', '5 Day Low',\n",
    "       '10 Day Open Mean', '10 Day High Mean', '10 Day Low Mean',\n",
    "       '10 Day Close Mean', '10 Day Volume Mean', '10 Day Open Var',\n",
    "       '10 Day High Var', '10 Day Low Var', '10 Day Close Var',\n",
    "       '10 Day Volume Var', '10 Day High', '10 Day Low', \n",
    "             '20 Day Open Mean', '20 Day High Mean', '20 Day Low Mean',\n",
    "       '20 Day Close Mean', '20 Day Volume Mean', '20 Day Open Var',\n",
    "       '20 Day High Var', '20 Day Low Var', '20 Day Close Var',\n",
    "       '20 Day Volume Var', '20 Day High', '20 Day Low']\n",
    "drop_list = [ 'Volume', 'Dividends', 'Stock Splits',\n",
    "       '5 Day Open Mean', '5 Day High Mean', '5 Day Low Mean',\n",
    "       '5 Day Close Mean', '5 Day Volume Mean', '5 Day Open Var',\n",
    "       '5 Day High Var', '5 Day Low Var', '5 Day Close Var',\n",
    "       '5 Day Volume Var', '5 Day Dt', \n",
    "       '10 Day Open Mean', '10 Day High Mean', '10 Day Low Mean',\n",
    "       '10 Day Close Mean', '10 Day Volume Mean', '10 Day Open Var',\n",
    "       '10 Day High Var', '10 Day Low Var', '10 Day Close Var',\n",
    "       '10 Day Volume Var', '10 Day High', '10 Day Low', '10 Day Dt', \n",
    "             '20 Day Open Mean', '20 Day High Mean', '20 Day Low Mean',\n",
    "       '20 Day Close Mean', '20 Day Volume Mean', '20 Day Open Var',\n",
    "       '20 Day High Var', '20 Day Low Var', '20 Day Close Var',\n",
    "       '20 Day Volume Var', '20 Day Dt']      \n",
    "clost_drop = ['Close', '- 1 Days Close', '- 2 Days Close', '- 3 Days Close',\n",
    "               '- 4 Days Close', '- 5 Days Close']\n",
    "stock_dfs = {}\n",
    "for key in stock_objects:\n",
    "    stock_dfs[key] = stock_objects[key].history(period='max')\n",
    "\n",
    "for key in stock_dfs:\n",
    "    #stock_dfs[key] = pf.date_time_prep(stock_dfs[key]) \n",
    "    stock_dfs[key] = pf.rolling_aves(stock_dfs[key])\n",
    "    stock_dfs[key].drop(drop_list, axis=1, inplace=True)\n",
    "    stock_dfs[key] = stock_dfs[key].merge(stock_investing[key], how='left', left_index=True, right_index=True)\n",
    "    stock_dfs[key] = stock_dfs[key].merge(stock_stocks[key], how='left', left_index=True, right_index=True)\n",
    "    stock_dfs[key].fillna(0, inplace=True)\n",
    "    stock_dfs[key] = pf.lstm_prep(stock_dfs[key], lookback=5)\n",
    "    stock_dfs[key] = pf.future_close_setup(stock_dfs[key], 5)\n",
    "    #stock_dfs[key].drop(clost_drop, axis=1, inplace=True)\n",
    "    \n",
    "    \n",
    "combine_df = pf.combiner(stock_dfs)\n",
    "\n",
    "X_train, y_train, X_test, y_test = pf.multi_stock_train_test_split(combine_df, 365, stock_dfs)\n",
    "X_scaler = MinMaxScaler()\n",
    "#y_scaler = MinMaxScaler()\n",
    "X_train = X_scaler.fit_transform(X_train)\n",
    "X_test = X_scaler.transform(X_test)\n",
    "#y_train = y_scaler.fit_transform(y_train)\n",
    "#y_test = y_scaler.transform(y_test)\n",
    "X_train_3d = np.reshape(X_train, (X_train.shape[0], 6, int(X_train.shape[1]/6)))\n",
    "X_test_3d = np.reshape(X_test, (X_test.shape[0], 6, int(X_test.shape[1]/6)))"
   ]
  },
  {
   "cell_type": "code",
   "execution_count": 8,
   "metadata": {
    "colab": {
     "base_uri": "https://localhost:8080/"
    },
    "executionInfo": {
     "elapsed": 52548,
     "status": "ok",
     "timestamp": 1617079901859,
     "user": {
      "displayName": "cody therrien",
      "photoUrl": "",
      "userId": "06182759585838248180"
     },
     "user_tz": 420
    },
    "id": "FKOEPCfADb0r",
    "outputId": "ec0b888f-c089-4d6f-a9ab-1a43feb52519"
   },
   "outputs": [
    {
     "name": "stdout",
     "output_type": "stream",
     "text": [
      "Epoch 1/60\n",
      "998/998 [==============================] - 6s 5ms/step - loss: 37653.0009\n",
      "Epoch 2/60\n",
      "998/998 [==============================] - 5s 5ms/step - loss: 293.2366\n",
      "Epoch 3/60\n",
      "998/998 [==============================] - 5s 5ms/step - loss: 307.1869\n",
      "Epoch 4/60\n",
      "998/998 [==============================] - 5s 5ms/step - loss: 257.8254\n",
      "Epoch 5/60\n",
      "998/998 [==============================] - 5s 5ms/step - loss: 279.1143\n",
      "Epoch 6/60\n",
      "998/998 [==============================] - 5s 5ms/step - loss: 247.4121\n",
      "Epoch 7/60\n",
      "998/998 [==============================] - 5s 5ms/step - loss: 258.2283\n",
      "Epoch 8/60\n",
      "998/998 [==============================] - 5s 5ms/step - loss: 245.8621\n",
      "Epoch 9/60\n",
      "998/998 [==============================] - 5s 5ms/step - loss: 256.4397\n",
      "Epoch 10/60\n",
      "998/998 [==============================] - 5s 5ms/step - loss: 267.0270\n"
     ]
    },
    {
     "data": {
      "text/plain": [
       "<tensorflow.python.keras.callbacks.History at 0x7f7caad19650>"
      ]
     },
     "execution_count": 8,
     "metadata": {
      "tags": []
     },
     "output_type": "execute_result"
    }
   ],
   "source": [
    "early_stopping = EarlyStopping(monitor='loss',\n",
    "                               patience=2, restore_best_weights=True)\n",
    "leaky_relu = LeakyReLU(alpha=1)\n",
    "\n",
    "np.random.seed(45)\n",
    "tf.random.set_seed(45)\n",
    "\n",
    "model = Sequential()\n",
    "#model.add(TimeDistributed(Dense(units=X_train_3d.shape[2], activation=leaky_relu)))\n",
    "model.add(SimpleRNN(units=X_train_3d.shape[1], activation=leaky_relu,\n",
    "               input_shape=(X_train_3d.shape[1], X_train_3d.shape[2])))\n",
    "#model.add(RepeatVector(X_train_3d.shape[1]))\n",
    "#model.add(SimpleRNN(units=X_train_3d.shape[1], return_sequences=False, activation=leaky_relu))\n",
    "model.add(Dense(units=X_train_3d.shape[2], activation=leaky_relu))\n",
    "model.add(Dense(units=1, activation=leaky_relu))\n",
    "model.compile(optimizer = 'adam', loss = 'mean_squared_error')\n",
    "model.fit(X_train_3d, y_train, epochs=60, batch_size=32, verbose=1,\n",
    "          workers=-1, callbacks=[early_stopping])"
   ]
  },
  {
   "cell_type": "code",
   "execution_count": 9,
   "metadata": {
    "colab": {
     "base_uri": "https://localhost:8080/"
    },
    "executionInfo": {
     "elapsed": 49592,
     "status": "ok",
     "timestamp": 1617079902288,
     "user": {
      "displayName": "cody therrien",
      "photoUrl": "",
      "userId": "06182759585838248180"
     },
     "user_tz": 420
    },
    "id": "7iPU8ABgDhz7",
    "outputId": "507f667e-9b3a-4242-a763-d451e5c5c3a9"
   },
   "outputs": [
    {
     "data": {
      "text/plain": [
       "0.9908327426528523"
      ]
     },
     "execution_count": 9,
     "metadata": {
      "tags": []
     },
     "output_type": "execute_result"
    }
   ],
   "source": [
    "predictions = model.predict(X_test_3d)\n",
    "#predictions = y_scaler.inverse_transform(predictions)\n",
    "#y_test = y_scaler.inverse_transform(y_test)\n",
    "model_score = r2_score(y_test[:-len(stock_dfs)*5], predictions[:-len(stock_dfs)*5])\n",
    "model_score\n",
    "#predictions 0.996109772994378"
   ]
  },
  {
   "cell_type": "code",
   "execution_count": 10,
   "metadata": {
    "colab": {
     "base_uri": "https://localhost:8080/"
    },
    "executionInfo": {
     "elapsed": 49010,
     "status": "ok",
     "timestamp": 1617079903400,
     "user": {
      "displayName": "cody therrien",
      "photoUrl": "",
      "userId": "06182759585838248180"
     },
     "user_tz": 420
    },
    "id": "NwLtmbaNDpbi",
    "outputId": "83188a08-751a-4fb6-9473-38ebf9a62bf3"
   },
   "outputs": [
    {
     "data": {
      "text/plain": [
       "0.9961158929600548"
      ]
     },
     "execution_count": 10,
     "metadata": {
      "tags": []
     },
     "output_type": "execute_result"
    }
   ],
   "source": [
    "train_preds = model.predict(X_train_3d)\n",
    "#train_preds = y_scaler.inverse_transform(train_preds)\n",
    "#y_train = y_scaler.inverse_transform(y_train)\n",
    "model_train_score = r2_score(y_train, train_preds)\n",
    "model_train_score\n",
    "#X_train_3d.shape[2]"
   ]
  },
  {
   "cell_type": "markdown",
   "metadata": {
    "id": "y2aLYnv3EFgb"
   },
   "source": [
    "# GRU"
   ]
  },
  {
   "cell_type": "code",
   "execution_count": 21,
   "metadata": {
    "colab": {
     "base_uri": "https://localhost:8080/"
    },
    "executionInfo": {
     "elapsed": 134237,
     "status": "ok",
     "timestamp": 1617073286454,
     "user": {
      "displayName": "cody therrien",
      "photoUrl": "",
      "userId": "06182759585838248180"
     },
     "user_tz": 420
    },
    "id": "xeX3OjJMEG9b",
    "outputId": "a00169ef-46f9-4ead-a00f-1052a9f7b33c"
   },
   "outputs": [
    {
     "name": "stdout",
     "output_type": "stream",
     "text": [
      "WARNING:tensorflow:Layer gru will not use cuDNN kernel since it doesn't meet the cuDNN kernel criteria. It will use generic GPU kernel as fallback when running on GPU\n",
      "Epoch 1/60\n",
      "998/998 [==============================] - 14s 13ms/step - loss: 32758.8406\n",
      "Epoch 2/60\n",
      "998/998 [==============================] - 13s 13ms/step - loss: 287.2307\n",
      "Epoch 3/60\n",
      "998/998 [==============================] - 13s 13ms/step - loss: 251.9458\n",
      "Epoch 4/60\n",
      "998/998 [==============================] - 13s 13ms/step - loss: 172.5433\n",
      "Epoch 5/60\n",
      "998/998 [==============================] - 13s 13ms/step - loss: 188.2943\n",
      "Epoch 6/60\n",
      "998/998 [==============================] - 13s 13ms/step - loss: 178.2906\n",
      "Epoch 7/60\n",
      "998/998 [==============================] - 13s 13ms/step - loss: 164.4881\n",
      "Epoch 8/60\n",
      "998/998 [==============================] - 13s 13ms/step - loss: 185.4597\n",
      "Epoch 9/60\n",
      "998/998 [==============================] - 13s 13ms/step - loss: 175.6898\n",
      "Epoch 10/60\n",
      "998/998 [==============================] - 13s 13ms/step - loss: 188.6776\n"
     ]
    },
    {
     "data": {
      "text/plain": [
       "<tensorflow.python.keras.callbacks.History at 0x7f16db9ad0d0>"
      ]
     },
     "execution_count": 21,
     "metadata": {
      "tags": []
     },
     "output_type": "execute_result"
    }
   ],
   "source": [
    "early_stopping = EarlyStopping(monitor='loss',\n",
    "                               patience=3, restore_best_weights=True)\n",
    "leaky_relu = LeakyReLU(alpha=1)\n",
    "\n",
    "np.random.seed(45)\n",
    "tf.random.set_seed(45)\n",
    "\n",
    "model2 = Sequential()\n",
    "model2.add(GRU(units=X_train_3d.shape[1], activation=leaky_relu, recurrent_activation=\"sigmoid\",\n",
    "               input_shape=(X_train_3d.shape[1], X_train_3d.shape[2])))\n",
    "#model2.add(RepeatVector(X_train_3d.shape[1]))\n",
    "#model2.add(LSTM(units=X_train_3d.shape[1], return_sequences=False, activation=leaky_relu))\n",
    "model2.add(Dense(units=200, activation=leaky_relu))\n",
    "model2.add(Dense(units = 1, activation=leaky_relu))\n",
    "model2.compile(optimizer = 'adam', loss = 'mean_squared_error')\n",
    "model2.fit(X_train_3d, y_train, epochs=60, batch_size=32, verbose=1,\n",
    "           workers=-1, callbacks=[early_stopping])"
   ]
  },
  {
   "cell_type": "code",
   "execution_count": 22,
   "metadata": {
    "colab": {
     "base_uri": "https://localhost:8080/"
    },
    "executionInfo": {
     "elapsed": 134524,
     "status": "ok",
     "timestamp": 1617073286743,
     "user": {
      "displayName": "cody therrien",
      "photoUrl": "",
      "userId": "06182759585838248180"
     },
     "user_tz": 420
    },
    "id": "TuvemIGqERph",
    "outputId": "760967d6-43e2-4f98-d461-45efd8c6ceab"
   },
   "outputs": [
    {
     "data": {
      "text/plain": [
       "0.9934388535738545"
      ]
     },
     "execution_count": 22,
     "metadata": {
      "tags": []
     },
     "output_type": "execute_result"
    }
   ],
   "source": [
    "predictions2 = model2.predict(X_test_3d)\n",
    "model_score2 = r2_score(y_test.dropna(), predictions2[:len(y_test.dropna())])\n",
    "model_score2"
   ]
  },
  {
   "cell_type": "code",
   "execution_count": 23,
   "metadata": {
    "colab": {
     "base_uri": "https://localhost:8080/"
    },
    "executionInfo": {
     "elapsed": 136044,
     "status": "ok",
     "timestamp": 1617073288265,
     "user": {
      "displayName": "cody therrien",
      "photoUrl": "",
      "userId": "06182759585838248180"
     },
     "user_tz": 420
    },
    "id": "2xUy5YjGESR6",
    "outputId": "037e414a-6582-41f7-db23-bc4f84e7a522"
   },
   "outputs": [
    {
     "data": {
      "text/plain": [
       "0.9932070090647193"
      ]
     },
     "execution_count": 23,
     "metadata": {
      "tags": []
     },
     "output_type": "execute_result"
    }
   ],
   "source": [
    "train_preds2 = model2.predict(X_train_3d)\n",
    "model_train_score2 = r2_score(y_train, train_preds2)\n",
    "model_train_score2"
   ]
  }
 ],
 "metadata": {
  "accelerator": "GPU",
  "colab": {
   "authorship_tag": "ABX9TyPG2PN761V9HO++OK2PnPsu",
   "name": "rnn_&_GRU.ipynb",
   "provenance": []
  },
  "kernelspec": {
   "display_name": "Python 3",
   "language": "python",
   "name": "python3"
  },
  "language_info": {
   "codemirror_mode": {
    "name": "ipython",
    "version": 3
   },
   "file_extension": ".py",
   "mimetype": "text/x-python",
   "name": "python",
   "nbconvert_exporter": "python",
   "pygments_lexer": "ipython3",
   "version": "3.7.7"
  }
 },
 "nbformat": 4,
 "nbformat_minor": 1
}

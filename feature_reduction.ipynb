{
 "cells": [
  {
   "cell_type": "code",
   "execution_count": 1,
   "metadata": {},
   "outputs": [],
   "source": [
    "import warnings\n",
    "warnings.filterwarnings('ignore')\n",
    "\n",
    "import yfinance as yf\n",
    "import pandas as pd\n",
    "import numpy as np\n",
    "import datetime\n",
    "import project_functions2 as pf\n",
    "from sklearn.linear_model import LinearRegression\n",
    "from sklearn.metrics import r2_score"
   ]
  },
  {
   "cell_type": "code",
   "execution_count": 2,
   "metadata": {},
   "outputs": [],
   "source": [
    "stock_list = ['AMZN', 'AAPL', 'FB','GOOGL', 'MSFT', 'TSLA']\n",
    "stock_objects = {}\n",
    "for stock in stock_list:\n",
    "    stock_objects[stock] = yf.Ticker(stock)"
   ]
  },
  {
   "cell_type": "code",
   "execution_count": 4,
   "metadata": {},
   "outputs": [
    {
     "data": {
      "text/plain": [
       "Index(['Open', 'High', 'Low', 'Close', 'Volume', 'Dividends', 'Stock Splits',\n",
       "       'Day', 'Month', 'Year', 'Days From IPO', 'Mt', 'Price Change',\n",
       "       '5 Day Open Mean', '5 Day High Mean', '5 Day Low Mean',\n",
       "       '5 Day Close Mean', '5 Day Volume Mean', '5 Day Open Var',\n",
       "       '5 Day High Var', '5 Day Low Var', '5 Day Close Var',\n",
       "       '5 Day Volume Var', '5 Day High', '5 Day Low', '5 Day SMt', '5 Day Dt',\n",
       "       '10 Day Open Mean', '10 Day High Mean', '10 Day Low Mean',\n",
       "       '10 Day Close Mean', '10 Day Volume Mean', '10 Day Open Var',\n",
       "       '10 Day High Var', '10 Day Low Var', '10 Day Close Var',\n",
       "       '10 Day Volume Var', '10 Day High', '10 Day Low', '10 Day SMt',\n",
       "       '10 Day Dt', '20 Day Open Mean', '20 Day High Mean', '20 Day Low Mean',\n",
       "       '20 Day Close Mean', '20 Day Volume Mean', '20 Day Open Var',\n",
       "       '20 Day High Var', '20 Day Low Var', '20 Day Close Var',\n",
       "       '20 Day Volume Var', '20 Day High', '20 Day Low', '20 Day SMt',\n",
       "       '20 Day Dt', '5 Day Weighted Close Ave', '10 Day Weighted Close Ave',\n",
       "       '20 Day Weighted Close Ave', '5 Day Momentum', '10 Day Momentum',\n",
       "       '20 Day Momentum', '5 Day Stochastic K', '10 Day Stochastic K',\n",
       "       '20 Day Stochastic K', '5 Day RSI', '10 Day RSI', '20 Day RSI',\n",
       "       'Larry Williams R 5 Day', 'Larry Williams R 10 Day',\n",
       "       'Larry Williams R 20 Day', 'AD Oscillator', '5 Day CCI', '10 Day CCI',\n",
       "       '20 Day CCI'],\n",
       "      dtype='object')"
      ]
     },
     "execution_count": 4,
     "metadata": {},
     "output_type": "execute_result"
    }
   ],
   "source": [
    "stock_dfs = {}\n",
    "for key in stock_objects:\n",
    "    stock_dfs[key] = stock_objects[key].history(period='max')\n",
    "    for key in stock_dfs:\n",
    "        stock_dfs[key] = pf.date_time_prep(stock_dfs[key]) \n",
    "        stock_dfs[key] = pf.rolling_aves(stock_dfs[key])\n",
    "stock_dfs['FB'].columns"
   ]
  },
  {
   "cell_type": "code",
   "execution_count": 28,
   "metadata": {},
   "outputs": [],
   "source": [
    "def feature_reduction(stock_objects, split_time):\n",
    "    drop_list = []\n",
    "    i = 4\n",
    "    \n",
    "    stock_dfs = {}\n",
    "    for key in stock_objects:\n",
    "        stock_dfs[key] = stock_objects[key].history(period='max')\n",
    "\n",
    "    for key in stock_dfs:\n",
    "        stock_dfs[key] = pf.date_time_prep(stock_dfs[key]) \n",
    "        stock_dfs[key] = pf.rolling_aves(stock_dfs[key])\n",
    "        stock_dfs[key] = pf.future_close_setup(stock_dfs[key], 5)\n",
    "        \n",
    "    combine_df = pf.combiner(stock_dfs)\n",
    "    \n",
    "    X = combine_df.iloc[:,:-1]\n",
    "    y = combine_df.iloc[:,-1:]\n",
    "    \n",
    "    split_mark = int(len(combine_df)-(split_time*len(stock_dfs)))\n",
    "    X_train = X.head(split_mark)\n",
    "    X_test = X.tail(len(combine_df) - split_mark)\n",
    "    y_train = y.head(split_mark)\n",
    "    y_test = y.tail(len(combine_df) - split_mark)\n",
    "    \n",
    "    stock_model = LinearRegression().fit(X_train, y_train)\n",
    "    stock_close_pred = stock_model.predict(X_test)\n",
    "    max_score = r2_score(y_test.dropna(), stock_close_pred[:len(y_test.dropna())])\n",
    "    \n",
    "    total_cols = len(combine_df.columns)\n",
    "\n",
    "    while i + len(drop_list) < total_cols:\n",
    "        stock_dfs = {}\n",
    "        for key in stock_objects:\n",
    "            stock_dfs[key] = stock_objects[key].history(period='max')\n",
    "    \n",
    "        for key in stock_dfs:\n",
    "            stock_dfs[key] = pf.date_time_prep(stock_dfs[key]) \n",
    "            stock_dfs[key] = pf.rolling_aves(stock_dfs[key])\n",
    "            stock_dfs[key] = pf.future_close_setup(stock_dfs[key], 5)\n",
    "            \n",
    "        combine_df = pf.combiner(stock_dfs)\n",
    "        \n",
    "        if len(drop_list) > 0:\n",
    "            combine_df.drop(drop_list, inplace=True, axis=1)\n",
    "            \n",
    "        curr_col = combine_df.columns[i]\n",
    "        combine_df.drop(curr_col, inplace=True, axis=1)\n",
    "            \n",
    "        X = combine_df.iloc[:,:-1]\n",
    "        y = combine_df.iloc[:,-1:]\n",
    "        \n",
    "        split_mark = int(len(combine_df)-(split_time*len(stock_dfs)))\n",
    "        X_train = X.head(split_mark)\n",
    "        X_test = X.tail(len(combine_df) - split_mark)\n",
    "        y_train = y.head(split_mark)\n",
    "        y_test = y.tail(len(combine_df) - split_mark)\n",
    "        \n",
    "        stock_model = LinearRegression().fit(X_train, y_train)\n",
    "        stock_close_pred = stock_model.predict(X_test)\n",
    "        curr_score = r2_score(y_test.dropna(), stock_close_pred[:len(y_test.dropna())])\n",
    "        \n",
    "        if curr_score >= max_score:\n",
    "            drop_list.append(curr_col)\n",
    "            max_score = curr_score\n",
    "        else:\n",
    "            i += 1\n",
    "    \n",
    "    return max_score, drop_list\n",
    "        "
   ]
  },
  {
   "cell_type": "code",
   "execution_count": 29,
   "metadata": {},
   "outputs": [],
   "source": [
    "max_score, drop_list = feature_reduction(stock_objects, 365)"
   ]
  },
  {
   "cell_type": "code",
   "execution_count": 30,
   "metadata": {},
   "outputs": [
    {
     "data": {
      "text/plain": [
       "0.9964896323194726"
      ]
     },
     "execution_count": 30,
     "metadata": {},
     "output_type": "execute_result"
    }
   ],
   "source": [
    "max_score"
   ]
  },
  {
   "cell_type": "code",
   "execution_count": 31,
   "metadata": {},
   "outputs": [
    {
     "data": {
      "text/plain": [
       "['Stock Splits',\n",
       " 'Day',\n",
       " 'Days From IPO',\n",
       " '5 Day Volume Mean',\n",
       " '5 Day High Var',\n",
       " '5 Day Low Var',\n",
       " '5 Day Close Var',\n",
       " '5 Day Low',\n",
       " '10 Day Low Var',\n",
       " '10 Day Close Var',\n",
       " '10 Day High',\n",
       " '10 Day Low',\n",
       " '10 Day SMt',\n",
       " '20 Day Low Mean',\n",
       " '20 Day Low',\n",
       " '5 Day Stochastic K',\n",
       " '20 Day Stochastic K',\n",
       " '5 Day RSI']"
      ]
     },
     "execution_count": 31,
     "metadata": {},
     "output_type": "execute_result"
    }
   ],
   "source": [
    "drop_list"
   ]
  },
  {
   "cell_type": "code",
   "execution_count": 42,
   "metadata": {},
   "outputs": [],
   "source": [
    "def feature_reduction2(stock_objects, split_time):\n",
    "    drop_list = []\n",
    "    i = 0\n",
    "    drop_flag = True\n",
    "    drop_col = ''\n",
    "    \n",
    "    stock_dfs = {}\n",
    "    for key in stock_objects:\n",
    "        stock_dfs[key] = stock_objects[key].history(period='max')\n",
    "\n",
    "    for key in stock_dfs:\n",
    "        stock_dfs[key] = pf.date_time_prep(stock_dfs[key]) \n",
    "        stock_dfs[key] = pf.rolling_aves(stock_dfs[key])\n",
    "        stock_dfs[key] = pf.future_close_setup(stock_dfs[key], 5)\n",
    "        \n",
    "    combine_df = pf.combiner(stock_dfs)\n",
    "    \n",
    "    X = combine_df.iloc[:,:-1]\n",
    "    y = combine_df.iloc[:,-1:]\n",
    "    \n",
    "    split_mark = int(len(combine_df)-(split_time*len(stock_dfs)))\n",
    "    X_train = X.head(split_mark)\n",
    "    X_test = X.tail(len(combine_df) - split_mark)\n",
    "    y_train = y.head(split_mark)\n",
    "    y_test = y.tail(len(combine_df) - split_mark)\n",
    "    \n",
    "    stock_model = LinearRegression().fit(X_train, y_train)\n",
    "    stock_close_pred = stock_model.predict(X_test)\n",
    "    max_score = r2_score(y_test.dropna(), stock_close_pred[:len(y_test.dropna())])\n",
    "    \n",
    "    total_cols = len(combine_df.columns)\n",
    "\n",
    "    while drop_flag:\n",
    "        i = 0\n",
    "        drop_flag = False\n",
    "        \n",
    "        while i + len(drop_list) < total_cols:\n",
    "            stock_dfs = {}\n",
    "            \n",
    "            for key in stock_objects:\n",
    "                stock_dfs[key] = stock_objects[key].history(period='max')\n",
    "        \n",
    "            for key in stock_dfs:\n",
    "                stock_dfs[key] = pf.date_time_prep(stock_dfs[key]) \n",
    "                stock_dfs[key] = pf.rolling_aves(stock_dfs[key])\n",
    "                stock_dfs[key] = pf.future_close_setup(stock_dfs[key], 5)\n",
    "                \n",
    "            combine_df = pf.combiner(stock_dfs)\n",
    "            \n",
    "            if len(drop_list) > 0:\n",
    "                combine_df.drop(drop_list, inplace=True, axis=1)\n",
    "                \n",
    "            curr_col = combine_df.columns[i]\n",
    "            combine_df.drop(curr_col, inplace=True, axis=1)\n",
    "                \n",
    "            X = combine_df.iloc[:,:-1]\n",
    "            y = combine_df.iloc[:,-1:]\n",
    "            \n",
    "            split_mark = int(len(combine_df)-(split_time*len(stock_dfs)))\n",
    "            X_train = X.head(split_mark)\n",
    "            X_test = X.tail(len(combine_df) - split_mark)\n",
    "            y_train = y.head(split_mark)\n",
    "            y_test = y.tail(len(combine_df) - split_mark)\n",
    "            \n",
    "            stock_model = LinearRegression().fit(X_train, y_train)\n",
    "            stock_close_pred = stock_model.predict(X_test)\n",
    "            curr_score = r2_score(y_test.dropna(), stock_close_pred[:len(y_test.dropna())])\n",
    "            \n",
    "            if curr_score >= max_score:\n",
    "                drop_col = curr_col\n",
    "                max_score = curr_score\n",
    "                drop_flag = True\n",
    "            \n",
    "            i += 1\n",
    "        drop_list.append(drop_col)\n",
    "    \n",
    "    return max_score, drop_list"
   ]
  },
  {
   "cell_type": "code",
   "execution_count": 43,
   "metadata": {},
   "outputs": [],
   "source": [
    "max_score, drop_list = feature_reduction2(stock_objects, 365)"
   ]
  },
  {
   "cell_type": "code",
   "execution_count": 44,
   "metadata": {},
   "outputs": [
    {
     "data": {
      "text/plain": [
       "0.9964578645451901"
      ]
     },
     "execution_count": 44,
     "metadata": {},
     "output_type": "execute_result"
    }
   ],
   "source": [
    "max_score"
   ]
  },
  {
   "cell_type": "code",
   "execution_count": 45,
   "metadata": {},
   "outputs": [
    {
     "data": {
      "text/plain": [
       "['10 Day Low Var',\n",
       " '20 Day CCI',\n",
       " '5 Day CCI',\n",
       " '5 Day High Var',\n",
       " '5 Day Close Var',\n",
       " '10 Day Stochastic K',\n",
       " '5 Day Low Var',\n",
       " '5 Day Low Var']"
      ]
     },
     "execution_count": 45,
     "metadata": {},
     "output_type": "execute_result"
    }
   ],
   "source": [
    "drop_list"
   ]
  },
  {
   "cell_type": "code",
   "execution_count": null,
   "metadata": {},
   "outputs": [],
   "source": []
  }
 ],
 "metadata": {
  "kernelspec": {
   "display_name": "Python 3",
   "language": "python",
   "name": "python3"
  },
  "language_info": {
   "codemirror_mode": {
    "name": "ipython",
    "version": 3
   },
   "file_extension": ".py",
   "mimetype": "text/x-python",
   "name": "python",
   "nbconvert_exporter": "python",
   "pygments_lexer": "ipython3",
   "version": "3.7.7"
  }
 },
 "nbformat": 4,
 "nbformat_minor": 4
}
